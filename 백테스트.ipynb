{
  "nbformat": 4,
  "nbformat_minor": 0,
  "metadata": {
    "colab": {
      "provenance": [],
      "authorship_tag": "ABX9TyOFCsGrwFpjmERmguWeBgy4",
      "include_colab_link": true
    },
    "kernelspec": {
      "name": "python3",
      "display_name": "Python 3"
    },
    "language_info": {
      "name": "python"
    }
  },
  "cells": [
    {
      "cell_type": "markdown",
      "metadata": {
        "id": "view-in-github",
        "colab_type": "text"
      },
      "source": [
        "<a href=\"https://colab.research.google.com/github/i-am-U-hyUn/knu-dart/blob/main/%EB%B0%B1%ED%85%8C%EC%8A%A4%ED%8A%B8.ipynb\" target=\"_parent\"><img src=\"https://colab.research.google.com/assets/colab-badge.svg\" alt=\"Open In Colab\"/></a>"
      ]
    },
    {
      "cell_type": "code",
      "execution_count": null,
      "metadata": {
        "id": "q_LCENiHPDQI"
      },
      "outputs": [],
      "source": [
        "import pandas as pd\n",
        "import numpy as np\n",
        "import matplotlib.pyplot as plt\n",
        "import scipy.stats as stt  #통계 관련 패키지, 평균이나 표편 등등"
      ]
    },
    {
      "cell_type": "code",
      "source": [
        "#포트폴리오 만들기: 동일 비중으로, 종목 선정은 할 수 있다고 가정"
      ],
      "metadata": {
        "id": "7nB-xh1dPVBW"
      },
      "execution_count": null,
      "outputs": []
    },
    {
      "cell_type": "code",
      "source": [
        "##데이터가이드\n",
        "screening_list=['A005360','A058860','A006200','A019180','A058850','A035000','A030720','A111110','A008420','A001770']"
      ],
      "metadata": {
        "id": "Xay7r90uPaU1"
      },
      "execution_count": null,
      "outputs": []
    },
    {
      "cell_type": "code",
      "source": [
        "history=pd.read_excel(\"history.xlsx\",index_col='Symbol').dropna(axis=1).copy()"
      ],
      "metadata": {
        "id": "2Dz7U8GYPwJE"
      },
      "execution_count": null,
      "outputs": []
    },
    {
      "cell_type": "code",
      "source": [
        "portfolio=pd.DataFrame(np.zeros((history.shape[0],history.shape[1])),columns=history.columns, index=history.index).dropna(axis=1)"
      ],
      "metadata": {
        "id": "vw4n3ycbP6jb"
      },
      "execution_count": null,
      "outputs": []
    },
    {
      "cell_type": "code",
      "source": [
        "\n",
        "equal_weight=1/len(screening_list)"
      ],
      "metadata": {
        "id": "nsGKVdLoQQDX"
      },
      "execution_count": null,
      "outputs": []
    },
    {
      "cell_type": "code",
      "source": [
        "portfolio.index"
      ],
      "metadata": {
        "colab": {
          "base_uri": "https://localhost:8080/"
        },
        "id": "h4TivB0WpaSq",
        "outputId": "8afd6286-a9ac-4f76-8f25-d8394c9686a3"
      },
      "execution_count": null,
      "outputs": [
        {
          "output_type": "execute_result",
          "data": {
            "text/plain": [
              "DatetimeIndex(['2022-04-05', '2022-04-06', '2022-04-07', '2022-04-08',\n",
              "               '2022-04-09', '2022-04-10', '2022-04-11', '2022-04-12',\n",
              "               '2022-04-13', '2022-04-14', '2022-04-15', '2022-04-16',\n",
              "               '2022-04-17', '2022-04-18', '2022-04-19', '2022-04-20',\n",
              "               '2022-04-21', '2022-04-22', '2022-04-23', '2022-04-24',\n",
              "               '2022-04-25', '2022-04-26', '2022-04-27', '2022-04-28',\n",
              "               '2022-04-29', '2022-04-30', '2022-05-01', '2022-05-02',\n",
              "               '2022-05-03', '2022-05-04'],\n",
              "              dtype='datetime64[ns]', name='Symbol', freq=None)"
            ]
          },
          "metadata": {},
          "execution_count": 11
        }
      ]
    },
    {
      "cell_type": "code",
      "source": [
        "\n",
        "for dates in portfolio.index:\n",
        "  for equities in screening_list:\n",
        "    portfolio.loc[dates,equities]=equal_weight"
      ],
      "metadata": {
        "id": "ehWPU-i2Qc1q"
      },
      "execution_count": null,
      "outputs": []
    },
    {
      "cell_type": "code",
      "source": [
        "\n",
        "portfolio.to_excel(\"portfolio.xlsx\")"
      ],
      "metadata": {
        "id": "_9MDIhLYQtzv"
      },
      "execution_count": null,
      "outputs": []
    },
    {
      "cell_type": "code",
      "source": [
        "\n",
        "portfolio=pd.read_excel(\"portfolio.xlsx\",index_col='Symbol')"
      ],
      "metadata": {
        "id": "FxJn6BqLQzva"
      },
      "execution_count": null,
      "outputs": []
    },
    {
      "cell_type": "code",
      "source": [
        "\n",
        "history=pd.read_excel(\"history.xlsx\",index_col='Symbol').dropna(axis=1).pct_change()\n",
        "\n",
        "returns = pd.Series([sum(portfolio.loc[dates]*history.loc[dates])for dates in portfolio.index],index=portfolio.index)\n",
        "\n",
        "returns"
      ],
      "metadata": {
        "colab": {
          "base_uri": "https://localhost:8080/"
        },
        "id": "GhMixhtHvRyN",
        "outputId": "ceab2372-e111-4e1b-91b0-3e49cdcbf60b"
      },
      "execution_count": null,
      "outputs": [
        {
          "output_type": "execute_result",
          "data": {
            "text/plain": [
              "Symbol\n",
              "2022-04-05         NaN\n",
              "2022-04-06   -0.001752\n",
              "2022-04-07   -0.003591\n",
              "2022-04-08   -0.025181\n",
              "2022-04-09    0.000000\n",
              "2022-04-10    0.000000\n",
              "2022-04-11   -0.013400\n",
              "2022-04-12    0.000211\n",
              "2022-04-13    0.004704\n",
              "2022-04-14    0.014733\n",
              "2022-04-15    0.010042\n",
              "2022-04-16    0.000000\n",
              "2022-04-17    0.000000\n",
              "2022-04-18   -0.000434\n",
              "2022-04-19    0.016055\n",
              "2022-04-20    0.012541\n",
              "2022-04-21    0.016432\n",
              "2022-04-22   -0.016802\n",
              "2022-04-23    0.000000\n",
              "2022-04-24    0.000000\n",
              "2022-04-25   -0.014136\n",
              "2022-04-26   -0.003497\n",
              "2022-04-27    0.000681\n",
              "2022-04-28    0.003957\n",
              "2022-04-29   -0.006377\n",
              "2022-04-30    0.000000\n",
              "2022-05-01    0.000000\n",
              "2022-05-02   -0.014173\n",
              "2022-05-03    0.020986\n",
              "2022-05-04   -0.002423\n",
              "dtype: float64"
            ]
          },
          "metadata": {},
          "execution_count": 15
        }
      ]
    },
    {
      "cell_type": "code",
      "source": [
        "\n",
        "valuation=pd.Series(np.ones(portfolio.shape[0]),index=portfolio.index) #총 평가액\n",
        "for dates in range(1,portfolio.index.shape[0]): valuation.iloc[dates]=valuation.iloc[dates-1]*(1+returns.iloc[dates])\n",
        "\n",
        "dayreturn = np.power(valuation[-1],1/(portfolio.index.shape[0]+1))-1\n",
        "print(dayreturn)\n",
        "\n",
        "CAGR=(dayreturn+1)**(252)-1  ##CAGR 구하는 공식\n",
        "dayVol=np.std(returns) ##표준편차\n",
        "\n",
        "KOSPI=pd.read_excel(\"KOSPI.xlsx\",index_col='Symbol')\n",
        "pd_returns_KOSPI = pd.read_excel(\"KOSPI.xlsx\",index_col='Symbol').pct_change().iloc[1:,0]\n",
        "np_returns_KOSPI = pd_returns_KOSPI.to_numpy()\n",
        "Sharpe=np.mean(returns.iloc[1:]-pd_returns_KOSPI)/dayVol  ##sharpe 구하는 공식\n",
        "\n",
        "\n",
        "print('''\n",
        "dayreturn : {:.6f}\n",
        "CAGR : {:.6f}\n",
        "dayVol : {:.6f}\n",
        "Sharpe : {:.6f}\n",
        "'''.format(dayreturn,CAGR,dayVol,Sharpe))\n"
      ],
      "metadata": {
        "id": "1mGqTNAaRIgv",
        "colab": {
          "base_uri": "https://localhost:8080/"
        },
        "outputId": "cf4e82ef-4b42-4a56-8017-88724b377808"
      },
      "execution_count": null,
      "outputs": [
        {
          "output_type": "stream",
          "name": "stdout",
          "text": [
            "-9.524072214983637e-05\n",
            "\n",
            "dayreturn : -0.000095\n",
            "CAGR : -0.023716\n",
            "dayVol : 0.010261\n",
            "Sharpe : 0.093753\n",
            "\n"
          ]
        }
      ]
    },
    {
      "cell_type": "code",
      "source": [
        "fig=plt.figure(figsize=(18,6))\n",
        "title=\"Backtest Performance Comparision\"\n",
        "plt.plot(portfolio.index,valuation)\n",
        "plt.plot(KOSPI.index,KOSPI/KOSPI.iloc[0])\n",
        "plt.legend(['strategy','kospi'])\n",
        "plt.title(title)\n",
        "plt.savefig(\"{}.png\".format(title))\n",
        "plt.show()"
      ],
      "metadata": {
        "id": "5pK8cwKVTNem",
        "colab": {
          "base_uri": "https://localhost:8080/",
          "height": 390
        },
        "outputId": "19cabb02-7c3b-489b-fda9-d3d63029276d"
      },
      "execution_count": null,
      "outputs": [
        {
          "output_type": "display_data",
          "data": {
            "text/plain": [
              "<Figure size 1296x432 with 1 Axes>"
            ],
            "image/png": "[encoded data removed]"
          },
          "metadata": {
            "needs_background": "light"
          }
        }
      ]
    }
  ]
}