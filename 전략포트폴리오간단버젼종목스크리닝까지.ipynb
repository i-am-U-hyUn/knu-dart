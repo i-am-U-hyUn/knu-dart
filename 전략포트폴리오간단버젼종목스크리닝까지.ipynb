{
  "nbformat": 4,
  "nbformat_minor": 0,
  "metadata": {
    "colab": {
      "provenance": [],
      "authorship_tag": "ABX9TyMVml55ziojxXfX4SLo7w4d",
      "include_colab_link": true
    },
    "kernelspec": {
      "name": "python3",
      "display_name": "Python 3"
    },
    "language_info": {
      "name": "python"
    }
  },
  "cells": [
    {
      "cell_type": "markdown",
      "metadata": {
        "id": "view-in-github",
        "colab_type": "text"
      },
      "source": [
        "<a href=\"https://colab.research.google.com/github/i-am-U-hyUn/knu-dart/blob/main/%EC%A0%84%EB%9E%B5%ED%8F%AC%ED%8A%B8%ED%8F%B4%EB%A6%AC%EC%98%A4%EA%B0%84%EB%8B%A8%EB%B2%84%EC%A0%BC%EC%A2%85%EB%AA%A9%EC%8A%A4%ED%81%AC%EB%A6%AC%EB%8B%9D%EA%B9%8C%EC%A7%80.ipynb\" target=\"_parent\"><img src=\"https://colab.research.google.com/assets/colab-badge.svg\" alt=\"Open In Colab\"/></a>"
      ]
    },
    {
      "cell_type": "code",
      "execution_count": null,
      "metadata": {
        "id": "BXVEFmk7hkO7"
      },
      "outputs": [],
      "source": [
        "import pandas as pd\n",
        "import numpy as np\n",
        "import matplotlib.pyplot as plt\n",
        "import scipy.stats as stt"
      ]
    },
    {
      "cell_type": "code",
      "source": [
        "pbr = pd.read_excel(\"pbr.xlsx\", index_col=0)\n",
        "psr = pd.read_excel(\"psr.xlsx\", index_col=0)\n",
        "per = pd.read_excel(\"per.xlsx\", index_col=0)"
      ],
      "metadata": {
        "id": "7bwvvWsChkpN"
      },
      "execution_count": null,
      "outputs": []
    },
    {
      "cell_type": "code",
      "source": [
        "pbr = pbr.transpose()"
      ],
      "metadata": {
        "id": "aIupJ0obhmZ0"
      },
      "execution_count": null,
      "outputs": []
    },
    {
      "cell_type": "code",
      "source": [
        "pbr = pbr[pbr[:]<=1]"
      ],
      "metadata": {
        "id": "xwmWeuV2hnJc"
      },
      "execution_count": null,
      "outputs": []
    },
    {
      "cell_type": "code",
      "source": [
        "pbr.dropna(axis=0, inplace=True)"
      ],
      "metadata": {
        "id": "VZ9LC_N8hoFt"
      },
      "execution_count": null,
      "outputs": []
    },
    {
      "cell_type": "code",
      "source": [
        "pbr_screen_index = pbr.index"
      ],
      "metadata": {
        "id": "ybi9XRSgho5h"
      },
      "execution_count": null,
      "outputs": []
    },
    {
      "cell_type": "code",
      "source": [
        "psr = psr.transpose()"
      ],
      "metadata": {
        "id": "-uefYMexhptW"
      },
      "execution_count": null,
      "outputs": []
    },
    {
      "cell_type": "code",
      "source": [
        "psr = pbr.loc[pbr_screen_index]"
      ],
      "metadata": {
        "id": "Ziur8RjShqsN"
      },
      "execution_count": null,
      "outputs": []
    },
    {
      "cell_type": "code",
      "source": [
        "psr = psr[psr[:]<=0.75]"
      ],
      "metadata": {
        "id": "8xX-fe_hhrjJ"
      },
      "execution_count": null,
      "outputs": []
    },
    {
      "cell_type": "code",
      "source": [
        "psr.dropna(axis=0, inplace=True)"
      ],
      "metadata": {
        "id": "alr9wo0WhsiN"
      },
      "execution_count": null,
      "outputs": []
    },
    {
      "cell_type": "code",
      "source": [
        "psr_screen_index = psr.index"
      ],
      "metadata": {
        "id": "MUiI9PfvhtwV"
      },
      "execution_count": null,
      "outputs": []
    },
    {
      "cell_type": "code",
      "source": [
        "per = per.transpose()"
      ],
      "metadata": {
        "id": "BJa-YCCjhuoT"
      },
      "execution_count": null,
      "outputs": []
    },
    {
      "cell_type": "code",
      "source": [
        "per = psr.loc[psr_screen_index]"
      ],
      "metadata": {
        "id": "mS1kgQzghvbN"
      },
      "execution_count": null,
      "outputs": []
    },
    {
      "cell_type": "code",
      "source": [
        "per = per[per[:]<=20]"
      ],
      "metadata": {
        "id": "G9GKlbbghwZF"
      },
      "execution_count": null,
      "outputs": []
    },
    {
      "cell_type": "code",
      "source": [
        "per = per[per[:]>0]"
      ],
      "metadata": {
        "id": "UkDfNgQYhxiZ"
      },
      "execution_count": null,
      "outputs": []
    },
    {
      "cell_type": "code",
      "source": [
        "per.dropna(axis=0, inplace=True)"
      ],
      "metadata": {
        "id": "xzVtCbychyZC"
      },
      "execution_count": null,
      "outputs": []
    },
    {
      "cell_type": "code",
      "source": [
        "per.sort_values(by='2017-05-04',ascending=False,inplace=True)"
      ],
      "metadata": {
        "id": "vhyK2VtXhzhh"
      },
      "execution_count": null,
      "outputs": []
    },
    {
      "cell_type": "code",
      "source": [
        "per_screen_index = per.iloc[:int(len(per.index)*0.2)].index\n",
        "per_screen_index"
      ],
      "metadata": {
        "colab": {
          "base_uri": "https://localhost:8080/"
        },
        "id": "akGphVFvh1LB",
        "outputId": "d4266702-33fd-470f-92e7-eaef15eb67c4"
      },
      "execution_count": null,
      "outputs": [
        {
          "output_type": "execute_result",
          "data": {
            "text/plain": [
              "Index(['A029780', 'A009770', 'A004360', 'A003690', 'A014710', 'A003650',\n",
              "       'A019440', 'A092440', 'A025530', 'A000590', 'A082640'],\n",
              "      dtype='object')"
            ]
          },
          "metadata": {},
          "execution_count": 18
        }
      ]
    },
    {
      "cell_type": "code",
      "source": [
        "screening_list=['A029780', 'A009770', 'A004360', 'A003690', 'A014710', 'A003650', 'A019440', 'A092440', 'A025530', 'A000590']"
      ],
      "metadata": {
        "id": "ZCDFjtU8h2ZO"
      },
      "execution_count": null,
      "outputs": []
    }
  ]
}