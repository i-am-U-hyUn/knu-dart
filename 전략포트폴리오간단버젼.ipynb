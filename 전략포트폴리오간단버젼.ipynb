{
  "nbformat": 4,
  "nbformat_minor": 0,
  "metadata": {
    "colab": {
      "provenance": [],
      "authorship_tag": "ABX9TyOC4L5fg3gtduR+Bkh4KU67",
      "include_colab_link": true
    },
    "kernelspec": {
      "name": "python3",
      "display_name": "Python 3"
    },
    "language_info": {
      "name": "python"
    }
  },
  "cells": [
    {
      "cell_type": "markdown",
      "metadata": {
        "id": "view-in-github",
        "colab_type": "text"
      },
      "source": [
        "<a href=\"https://colab.research.google.com/github/i-am-U-hyUn/knu-dart/blob/main/%EC%A0%84%EB%9E%B5%ED%8F%AC%ED%8A%B8%ED%8F%B4%EB%A6%AC%EC%98%A4%EA%B0%84%EB%8B%A8%EB%B2%84%EC%A0%BC.ipynb\" target=\"_parent\"><img src=\"https://colab.research.google.com/assets/colab-badge.svg\" alt=\"Open In Colab\"/></a>"
      ]
    },
    {
      "cell_type": "code",
      "execution_count": null,
      "metadata": {
        "id": "tyQuXmv_gBhz"
      },
      "outputs": [],
      "source": [
        "import pandas as pd\n",
        "import numpy as np\n",
        "import matplotlib.pyplot as plt\n",
        "import scipy.stats as stt"
      ]
    },
    {
      "cell_type": "code",
      "source": [
        "pbr = pd.read_excel(\"pbr.xlsx\", index_col=0)\n",
        "psr = pd.read_excel(\"psr.xlsx\", index_col=0)\n",
        "per = pd.read_excel(\"per.xlsx\", index_col=0)"
      ],
      "metadata": {
        "id": "G4bWq4m5gE5E"
      },
      "execution_count": null,
      "outputs": []
    },
    {
      "cell_type": "code",
      "source": [
        "pbr = pbr.transpose()"
      ],
      "metadata": {
        "id": "h5c45b0dgSTT"
      },
      "execution_count": null,
      "outputs": []
    },
    {
      "cell_type": "code",
      "source": [
        "pbr = pbr[pbr[:]<=1]"
      ],
      "metadata": {
        "id": "davkcjdZgTci"
      },
      "execution_count": null,
      "outputs": []
    },
    {
      "cell_type": "code",
      "source": [
        "pbr.dropna(axis=0, inplace=True)"
      ],
      "metadata": {
        "id": "3g-7r00sgU86"
      },
      "execution_count": null,
      "outputs": []
    },
    {
      "cell_type": "code",
      "source": [
        "pbr_screen_index = pbr.index"
      ],
      "metadata": {
        "id": "Ikr19WoMgZrk"
      },
      "execution_count": null,
      "outputs": []
    },
    {
      "cell_type": "code",
      "source": [
        "psr = psr.transpose()"
      ],
      "metadata": {
        "id": "zM_ZUKUogb8h"
      },
      "execution_count": null,
      "outputs": []
    },
    {
      "cell_type": "code",
      "source": [
        "psr = pbr.loc[pbr_screen_index]"
      ],
      "metadata": {
        "id": "iu20CydHgc-r"
      },
      "execution_count": null,
      "outputs": []
    },
    {
      "cell_type": "code",
      "source": [
        "psr = psr[psr[:]<=0.75]"
      ],
      "metadata": {
        "id": "qckNdqvvgezZ"
      },
      "execution_count": null,
      "outputs": []
    },
    {
      "cell_type": "code",
      "source": [
        "psr.dropna(axis=0, inplace=True)"
      ],
      "metadata": {
        "id": "xD9KtLrJggFp"
      },
      "execution_count": null,
      "outputs": []
    },
    {
      "cell_type": "code",
      "source": [
        "psr_screen_index = psr.index"
      ],
      "metadata": {
        "id": "g8ZNFgMcgjMZ"
      },
      "execution_count": null,
      "outputs": []
    },
    {
      "cell_type": "code",
      "source": [
        "per = per.transpose()"
      ],
      "metadata": {
        "id": "4wLmFUEegkLZ"
      },
      "execution_count": null,
      "outputs": []
    },
    {
      "cell_type": "code",
      "source": [
        "per = psr.loc[psr_screen_index]"
      ],
      "metadata": {
        "id": "f5BLGrGPglp6"
      },
      "execution_count": null,
      "outputs": []
    },
    {
      "cell_type": "code",
      "source": [
        "per = per[per[:]<=20]"
      ],
      "metadata": {
        "id": "L1r7XwR4gnNf"
      },
      "execution_count": null,
      "outputs": []
    },
    {
      "cell_type": "code",
      "source": [
        "per = per[per[:]>0]"
      ],
      "metadata": {
        "id": "7KLPGsvfgo4_"
      },
      "execution_count": null,
      "outputs": []
    },
    {
      "cell_type": "code",
      "source": [
        "per.dropna(axis=0, inplace=True)"
      ],
      "metadata": {
        "id": "UBTo38FpgpzW"
      },
      "execution_count": null,
      "outputs": []
    },
    {
      "cell_type": "code",
      "source": [
        "per.sort_values(by='2017-05-04',ascending=False,inplace=True)"
      ],
      "metadata": {
        "id": "IYBjrRiigrzf"
      },
      "execution_count": null,
      "outputs": []
    },
    {
      "cell_type": "code",
      "source": [
        "per_screen_index = per.iloc[:int(len(per.index)*0.2)].index\n",
        "per_screen_index"
      ],
      "metadata": {
        "colab": {
          "base_uri": "https://localhost:8080/"
        },
        "id": "jiF39gJHgy4W",
        "outputId": "ad89a7ba-4b23-408a-d081-22ec5dc30913"
      },
      "execution_count": null,
      "outputs": [
        {
          "output_type": "execute_result",
          "data": {
            "text/plain": [
              "Index(['A029780', 'A009770', 'A004360', 'A003690', 'A014710', 'A003650',\n",
              "       'A019440', 'A092440', 'A025530', 'A000590', 'A082640'],\n",
              "      dtype='object')"
            ]
          },
          "metadata": {},
          "execution_count": 33
        }
      ]
    },
    {
      "cell_type": "code",
      "source": [
        "screening_list=['A029780', 'A009770', 'A004360', 'A003690', 'A014710', 'A003650', 'A019440', 'A092440', 'A025530', 'A000590']"
      ],
      "metadata": {
        "id": "IAyzrnHgg1f2"
      },
      "execution_count": null,
      "outputs": []
    },
    {
      "cell_type": "code",
      "source": [
        "history=pd.read_excel(\"price.xlsx\",index_col='Symbol').dropna(axis=1).copy()"
      ],
      "metadata": {
        "id": "efAS1Maqg4D2"
      },
      "execution_count": null,
      "outputs": []
    },
    {
      "cell_type": "code",
      "source": [
        "portfolio=pd.DataFrame(np.zeros((history.shape[0],history.shape[1])),columns=history.columns, index=history.index).dropna(axis=1)"
      ],
      "metadata": {
        "id": "i5UtDzi-g9EN"
      },
      "execution_count": null,
      "outputs": []
    },
    {
      "cell_type": "code",
      "source": [
        "equal_weight=1/len(screening_list)"
      ],
      "metadata": {
        "id": "Yj0MjdOdg-iF"
      },
      "execution_count": null,
      "outputs": []
    },
    {
      "cell_type": "code",
      "source": [
        "portfolio.index"
      ],
      "metadata": {
        "colab": {
          "base_uri": "https://localhost:8080/"
        },
        "id": "qacQQPuSg_1M",
        "outputId": "44b26648-6aa1-45ba-8d5c-3fae53a92c85"
      },
      "execution_count": null,
      "outputs": [
        {
          "output_type": "execute_result",
          "data": {
            "text/plain": [
              "Index(['2022/05/02', '2022/04/29', '2022/04/01', '2022/03/31', '2022/03/02',\n",
              "       '2022/02/28', '2022/02/03', '2022/01/28', '2022/01/03', '2021/12/30',\n",
              "       ...\n",
              "       '2017/09/29', '2017/09/01', '2017/08/31', '2017/08/01', '2017/07/31',\n",
              "       '2017/07/03', '2017/06/30', '2017/06/01', '2017/05/31', '2017/05/04'],\n",
              "      dtype='object', name='Symbol', length=121)"
            ]
          },
          "metadata": {},
          "execution_count": 25
        }
      ]
    },
    {
      "cell_type": "code",
      "source": [
        "for dates in portfolio.index:\n",
        "  for equities in screening_list:\n",
        "    portfolio.loc[dates,equities]=equal_weight"
      ],
      "metadata": {
        "id": "TkXZbhFLhBMW"
      },
      "execution_count": null,
      "outputs": []
    },
    {
      "cell_type": "code",
      "source": [
        "portfolio.to_excel(\"portfolio.xlsx\")"
      ],
      "metadata": {
        "id": "lgAR-o0IhCi9"
      },
      "execution_count": null,
      "outputs": []
    },
    {
      "cell_type": "code",
      "source": [
        "portfolio=pd.read_excel(\"portfolio.xlsx\",index_col='Symbol')"
      ],
      "metadata": {
        "id": "QP8jSnflhDxt"
      },
      "execution_count": null,
      "outputs": []
    },
    {
      "cell_type": "code",
      "source": [
        "history=pd.read_excel(\"price.xlsx\",index_col='Symbol').dropna(axis=1).pct_change()\n",
        "returns = pd.Series([sum(portfolio.loc[dates]*history.loc[dates])for dates in portfolio.index],index=portfolio.index)\n",
        "returns"
      ],
      "metadata": {
        "colab": {
          "base_uri": "https://localhost:8080/"
        },
        "id": "-knNMXJKhFdd",
        "outputId": "7a5bc297-d2cf-49a6-d5c3-98f2f7fef35e"
      },
      "execution_count": null,
      "outputs": [
        {
          "output_type": "execute_result",
          "data": {
            "text/plain": [
              "Symbol\n",
              "2022/05/02   NaN\n",
              "2022/04/29   NaN\n",
              "2022/04/01   NaN\n",
              "2022/03/31   NaN\n",
              "2022/03/02   NaN\n",
              "              ..\n",
              "2017/07/03   NaN\n",
              "2017/06/30   NaN\n",
              "2017/06/01   NaN\n",
              "2017/05/31   NaN\n",
              "2017/05/04   NaN\n",
              "Length: 121, dtype: float64"
            ]
          },
          "metadata": {},
          "execution_count": 35
        }
      ]
    }
  ]
}